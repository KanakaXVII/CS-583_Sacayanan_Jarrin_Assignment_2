{
 "cells": [
  {
   "cell_type": "markdown",
   "metadata": {},
   "source": [
    "# Programming Assignment: Build a CNN for image recognition.\n",
    "\n",
    "### Name: Jarrin Sacayanan\n"
   ]
  },
  {
   "cell_type": "markdown",
   "metadata": {},
   "source": [
    "## 0. You will do the following:\n",
    "\n",
    "1. Read, complete, and run the code.\n",
    "\n",
    "2. **Make substantial improvements** to maximize the accuracy.\n",
    "    \n",
    "3. Convert the .IPYNB file to .HTML file.\n",
    "\n",
    "    * The HTML file must contain the code and the output after execution.\n",
    "    \n",
    "    * Missing **the output after execution** will not be graded.\n",
    "\n",
    "\n",
    "4. Upload the .HTML file to your Google Drive, Dropbox, or Github repo. (If you submit the file to Google Drive or Dropbox, you must make the file \"open-access\". The delay caused by \"deny of access\" may result in late penalty.)\n",
    "\n",
    "4. On Canvas, submit the Google Drive/Dropbox/Github link to the HTML file.\n",
    "\n",
    "\n",
    "## Requirements:\n",
    "\n",
    "1. You can use whatever CNN architecture, including VGG, Inception, and ResNet. However, you must build the networks layer by layer. You must NOT import the archetectures from ```keras.applications```.\n",
    "\n",
    "2. Make sure ```BatchNormalization``` is between a ```Conv```/```Dense``` layer and an ```activation``` layer.\n",
    "\n",
    "3. If you want to regularize a ```Conv```/```Dense``` layer, you should place a ```Dropout``` layer **before** the ```Conv```/```Dense``` layer.\n",
    "\n",
    "4. An accuracy above 70% is considered reasonable. An accuracy above 80% is considered good. Without data augmentation, achieving 80% accuracy is difficult.\n",
    "\n",
    "\n",
    "## Google Colab\n",
    "\n",
    "- If you do not have GPU, the training of a CNN can be slow. Google Colab is a good option.\n",
    "\n",
    "- Keep in mind that you must download it as an IPYNB file and then use IPython Notebook to convert it to HTML.\n",
    "\n",
    "- Also keep in mind that the IPYNB and HTML files must contain the outputs. (Otherwise, the instructor will not be able to know the correctness and performance.) Do the followings to keep the outputs.\n",
    "\n",
    "- In Colab, go to ```Runtime``` --> ```Change runtime type``` --> Do NOT check ```Omit code cell output when saving this notebook```. In this way, the downloaded IPYNB file contains the outputs."
   ]
  },
  {
   "cell_type": "code",
   "execution_count": null,
   "metadata": {},
   "outputs": [],
   "source": [
    "# [OPTIONAL] Install packages\n",
    "%pip install keras tensorflow"
   ]
  },
  {
   "cell_type": "code",
   "execution_count": 40,
   "metadata": {},
   "outputs": [],
   "source": [
    "# [OPTIONAL] Silence warnings\n",
    "import warnings\n",
    "warnings.filterwarnings('ignore');"
   ]
  },
  {
   "cell_type": "markdown",
   "metadata": {},
   "source": [
    "## 1. Data preparation"
   ]
  },
  {
   "cell_type": "markdown",
   "metadata": {},
   "source": [
    "### 1.1. Load data\n"
   ]
  },
  {
   "cell_type": "code",
   "execution_count": 30,
   "metadata": {},
   "outputs": [
    {
     "name": "stdout",
     "output_type": "stream",
     "text": [
      "shape of x_train: (50000, 32, 32, 3)\n",
      "shape of y_train: (50000, 1)\n",
      "shape of x_test: (10000, 32, 32, 3)\n",
      "shape of y_test: (10000, 1)\n",
      "number of classes: 10\n"
     ]
    }
   ],
   "source": [
    "from keras.datasets import cifar10\n",
    "import numpy\n",
    "\n",
    "(x_train, y_train), (x_test, y_test) = cifar10.load_data()\n",
    "\n",
    "print('shape of x_train: ' + str(x_train.shape))\n",
    "print('shape of y_train: ' + str(y_train.shape))\n",
    "print('shape of x_test: ' + str(x_test.shape))\n",
    "print('shape of y_test: ' + str(y_test.shape))\n",
    "print('number of classes: ' + str(numpy.max(y_train) - numpy.min(y_train) + 1))"
   ]
  },
  {
   "cell_type": "markdown",
   "metadata": {},
   "source": [
    "### 1.2. One-hot encode the labels\n",
    "\n",
    "In the input, a label is a scalar in $\\{0, 1, \\cdots , 9\\}$. One-hot encode transform such a scalar to a $10$-dim vector. E.g., a scalar ```y_train[j]=3``` is transformed to the vector ```y_train_vec[j]=[0, 0, 0, 1, 0, 0, 0, 0, 0, 0]```.\n",
    "\n",
    "1. Define a function ```to_one_hot``` that transforms an $n\\times 1$ array to a $n\\times 10$ matrix.\n",
    "\n",
    "2. Apply the function to ```y_train``` and ```y_test```."
   ]
  },
  {
   "cell_type": "code",
   "execution_count": 31,
   "metadata": {},
   "outputs": [
    {
     "name": "stdout",
     "output_type": "stream",
     "text": [
      "Shape of y_train_vec: (50000, 10)\n",
      "Shape of y_test_vec: (10000, 10)\n",
      "[6]\n",
      "[0. 0. 0. 0. 0. 0. 1. 0. 0. 0.]\n"
     ]
    }
   ],
   "source": [
    "def to_one_hot(y, num_class=10):\n",
    "    ### START Student Code\n",
    "\n",
    "    # Create an empty matrix\n",
    "    y_hot = numpy.zeros((y.size, num_class))\n",
    "    \n",
    "    # Assign 1 to values in y\n",
    "    for ind, y_i in enumerate(y):\n",
    "        y_hot[ind][y_i] = 1\n",
    "    \n",
    "    return y_hot\n",
    "    ### END Student Code\n",
    "\n",
    "y_train_vec = to_one_hot(y_train)\n",
    "y_test_vec = to_one_hot(y_test)\n",
    "\n",
    "print('Shape of y_train_vec: ' + str(y_train_vec.shape))\n",
    "print('Shape of y_test_vec: ' + str(y_test_vec.shape))\n",
    "\n",
    "print(y_train[0])\n",
    "print(y_train_vec[0])"
   ]
  },
  {
   "cell_type": "markdown",
   "metadata": {},
   "source": [
    "#### Remark: the outputs should be\n",
    "* Shape of y_train_vec: (50000, 10)\n",
    "* Shape of y_test_vec: (10000, 10)\n",
    "* [6]\n",
    "* [0. 0. 0. 0. 0. 0. 1. 0. 0. 0.]"
   ]
  },
  {
   "cell_type": "markdown",
   "metadata": {},
   "source": [
    "### 1.3. Randomly partition the training set to training and validation sets\n",
    "\n",
    "Randomly partition the 50K training samples to 2 sets:\n",
    "* a training set containing 40K samples\n",
    "* a validation set containing 10K samples\n"
   ]
  },
  {
   "cell_type": "code",
   "execution_count": 32,
   "metadata": {},
   "outputs": [
    {
     "name": "stdout",
     "output_type": "stream",
     "text": [
      "Shape of x_tr: (40000, 32, 32, 3)\n",
      "Shape of y_tr: (40000, 10)\n",
      "Shape of x_val: (10000, 32, 32, 3)\n",
      "Shape of y_val: (10000, 10)\n"
     ]
    }
   ],
   "source": [
    "rand_indices = numpy.random.permutation(50000)\n",
    "train_indices = rand_indices[0:40000]\n",
    "valid_indices = rand_indices[40000:50000]\n",
    "\n",
    "x_val = x_train[valid_indices, :]\n",
    "y_val = y_train_vec[valid_indices, :]\n",
    "\n",
    "x_tr = x_train[train_indices, :]\n",
    "y_tr = y_train_vec[train_indices, :]\n",
    "\n",
    "print('Shape of x_tr: ' + str(x_tr.shape))\n",
    "print('Shape of y_tr: ' + str(y_tr.shape))\n",
    "print('Shape of x_val: ' + str(x_val.shape))\n",
    "print('Shape of y_val: ' + str(y_val.shape))"
   ]
  },
  {
   "cell_type": "markdown",
   "metadata": {},
   "source": [
    "## 2. Build a CNN and tune its hyper-parameters\n",
    "\n",
    "1. Build a convolutional neural network model\n",
    "2. Use the validation data to tune the hyper-parameters (e.g., network structure, and optimization algorithm)\n",
    "    * Do NOT use test data for hyper-parameter tuning!!!\n",
    "3. Try to achieve a validation accuracy as high as possible."
   ]
  },
  {
   "cell_type": "markdown",
   "metadata": {},
   "source": [
    "### Remark: \n",
    "\n",
    "The following CNN is just an example. You are supposed to make **substantial improvements** such as:\n",
    "* Add more layers.\n",
    "* Use regularizations, e.g., dropout.\n",
    "* Use batch normalization."
   ]
  },
  {
   "cell_type": "code",
   "execution_count": 33,
   "metadata": {},
   "outputs": [
    {
     "name": "stdout",
     "output_type": "stream",
     "text": [
      "Model: \"sequential\"\n",
      "_________________________________________________________________\n",
      " Layer (type)                Output Shape              Param #   \n",
      "=================================================================\n",
      " conv2d (Conv2D)             (None, 32, 32, 32)        896       \n",
      "                                                                 \n",
      " max_pooling2d (MaxPooling2D  (None, 16, 16, 32)       0         \n",
      " )                                                               \n",
      "                                                                 \n",
      " conv2d_1 (Conv2D)           (None, 16, 16, 64)        18496     \n",
      "                                                                 \n",
      " max_pooling2d_1 (MaxPooling  (None, 8, 8, 64)         0         \n",
      " 2D)                                                             \n",
      "                                                                 \n",
      " flatten (Flatten)           (None, 4096)              0         \n",
      "                                                                 \n",
      " dense (Dense)               (None, 128)               524416    \n",
      "                                                                 \n",
      " dense_1 (Dense)             (None, 10)                1290      \n",
      "                                                                 \n",
      "=================================================================\n",
      "Total params: 545,098\n",
      "Trainable params: 545,098\n",
      "Non-trainable params: 0\n",
      "_________________________________________________________________\n"
     ]
    }
   ],
   "source": [
    "# Example CNN Model\n",
    "from keras.layers import Conv2D, MaxPooling2D, Flatten, Dense\n",
    "from keras.models import Sequential\n",
    "\n",
    "model = Sequential()\n",
    "model.add(Conv2D(32, (3, 3), activation='relu', padding='same', input_shape=(32, 32, 3)))\n",
    "model.add(MaxPooling2D((2, 2)))\n",
    "model.add(Conv2D(64, (3, 3), activation='relu', padding='same'))\n",
    "model.add(MaxPooling2D((2, 2)))\n",
    "model.add(Flatten())\n",
    "model.add(Dense(128, activation='relu'))\n",
    "model.add(Dense(10, activation='softmax'))\n",
    "\n",
    "model.summary()"
   ]
  },
  {
   "cell_type": "markdown",
   "metadata": {},
   "source": [
    "# My Implementation\n",
    "After running the provided sample model, it achieves the following scores:\n",
    "- **Training**:   0.4966\n",
    "- **Validation**: 0.4777\n",
    "\n",
    "These scores will be the baseline to determine the efficacy of my model adjustments.\n",
    "\n",
    "---\n",
    "## Attempted Optimizations\n",
    "Provided below is a log of all of the different changes I made to the model in efforts to improve the performance. The following cell only represents the final submitted model as I did not want to flood this notebook by creating many different cells for trying different approaches.\n",
    "1. Added two `BatchNormalization()` layers (after the `Conv2D()` layers)\n",
    "    - **Training**: 0.6325\n",
    "    - **Validation**: 0.5866\n",
    "2. Added two `Dropout(rate=0.2)`layers (after the `Conv2D()` layers)\n",
    "    - **Training**: 0.4124 \n",
    "    - **Validation**: 0.4267\n",
    "3. Added two `BatchNormalization()` layers (after the `Conv2D()` layers) and one `Dropout(rate=.1)` layer before the final `Dense()` layer\n",
    "    - **Training**: 0.5999 \n",
    "    - **Validation**: 0.5760\n",
    "4. Added two `BatchNormalization()` layers (after the `Conv2D()` layers), one `Dropout(rate=.2)` layer before the final `Dense()` layer, and increased the batch size from 32 to 64\n",
    "    - **Training**: 0.5370 \n",
    "    - **Validation**: 0.5448\n",
    "5. Added three `BatchNormalization()` layers (after the `Conv2D()` layers), one `MaxPooling2D()`layer, and one `Conv2D(128, (3, 3))` layer\n",
    "    - **Training**: 0.5637 \n",
    "    - **Validation**: 0.5715\n",
    "6. Added two additional rounds of `Conv2D()`, `BatchNormalization()`, and `MaxPooling2D()` layers. Also adjusted learning rate from 1e-5 to 0.001 and batch size from 32 to 64.\n",
    "    - **Training**: 0.8803 \n",
    "    - **Validation**: 0.7484\n",
    "    \n",
    "**Update**: At this point, I have achieved a high training score with a decent validation score, so I feel as though I am on the right track to achieving a solid model. For the next iteration, I will run the same model with a learning rate of 0.0001 instead of 0.001. I will keep the batch size at 64.\n",
    "\n",
    "7. Same as 6, but with a learning rate of 0.0001 instead of 0.001\n",
    "    - **Training**: 0.8462 \n",
    "    - **Validation**: 0.6855\n",
    "    \n",
    "**Update**: This resulted in an even worse training and validation score. I will try the learning rate of 0.001 once again, but I will make more adjustments to the model layers themselves.\n",
    "\n",
    "8. Same as 6, but with two `Dropout()` layers instead of one and an increased dropout rate.\n",
    "    - **Training**: 0.7114 \n",
    "    - **Validation**: 0.6959\n",
    "9. Using a `Dropout()` layer after each `MaxPooling2D()` layer and reducing the dropout rate\n",
    "    - **Training**: 0.7483 \n",
    "    - **Validation**: 0.7266\n",
    "10. Adjusting the filter sizes in all `Conv2D()` layers to try and extract different information\n",
    "    - **Training**: 0.7988 \n",
    "    - **Validation**: 0.6924\n",
    "\n",
    "**Update**: The model is not improving and the validation scores are now sporadically jumping up and down. I will try to use some non-square filters in the `Conv2D()` layers to see if the model can extract some different features and increase the accuracy. I will use the original two `Conv2D()` layers, but I will add two more that use the filter dimensions `(3, 7)` and `(7, 3)` respectively. I will also go back to using a single `Dropout(rate=.5)` layer right before the final `Dense()` layer.\n",
    "\n",
    "11. Trying non-square filter sizes for two additional `Conv2D()` layers and using a single `Dropout()` layer\n",
    "    - **Training**: 0.8864 \n",
    "    - **Validation**: 0.7460\n",
    "\n",
    "**Update**: At this point, I have not moved on to the testing phase. I will try to use the test set now to see what kind of test accuracy I can come up with.\n",
    "\n",
    "**Testing with Model 11**: I fit the model using the entire training set and achieved the following accuracy scores:\n",
    "- **Training**: 0.9496\n",
    "- **Testing**: ~0.7202 \n",
    "\n",
    "This is not ideal, so I will try a few more optimizations to see if I can increase the score. Based on my observations from the training, validation, and testing scores of model 11, it looks like my model is overfitting to the training data. I will try to combat this by adding additional `Dropout()` layers.\n",
    "\n",
    "12. Using model **11**, but adding additional `Dropout()` layers to reduce overfitting.\n",
    "    - **Training**: 0.5903 \n",
    "    - **Validation**: 0.5734\n",
    "\n",
    "**Update**: Adding more dropout layers ***did not*** fix my overfitting problem. I realized I may be performing dropout at the incorrect step in the layer order, so I shifted them to be performed directly after the `Conv2D()` layers. I also reduce the dropout rate to 0.3.\n",
    "\n",
    "13. Replicating model **12**, but moving the `Dropout()` layers to be directly after the `Conv2D()` layers. Also reduced the dropout rate from 0.5 to 0.3.\n",
    "    - **Training**: 0.7878\n",
    "    - **Validation**: 0.6687\n",
    "\n",
    "**Update**: My validation accuracy is persistently low, so I am going to try a different regularizer (`l2`). \n",
    "\n",
    "14. Using Model 11 but including `L2` regularization on the `Conv2D()` layers\n",
    "    - **Training**: 0.7323 \n",
    "    - **Validation**: 0.5900\n",
    "\n",
    "**Update**: This didn't work...I'm going to try to add another `Conv2D()` stack with another filter size. I'm also going to remove the dropout layer and rely solely on L2 for regularization.\n",
    "\n",
    "15. Using model 11 but adding another convolutional stack and removing the `Dropout()` layer\n",
    "    - **Training**: 0.7449 \n",
    "    - **Validation**: 0.6723\n",
    "\n",
    "**Update**: I'm not sure which improvements need to be made to increase the validation accuracy, so I am re-creating model **11**."
   ]
  },
  {
   "cell_type": "code",
   "execution_count": 109,
   "metadata": {},
   "outputs": [
    {
     "name": "stdout",
     "output_type": "stream",
     "text": [
      "Model: \"sequential_18\"\n",
      "_________________________________________________________________\n",
      " Layer (type)                Output Shape              Param #   \n",
      "=================================================================\n",
      " conv2d_57 (Conv2D)          (None, 32, 32, 32)        896       \n",
      "                                                                 \n",
      " batch_normalization_50 (Bat  (None, 32, 32, 32)       128       \n",
      " chNormalization)                                                \n",
      "                                                                 \n",
      " max_pooling2d_56 (MaxPoolin  (None, 16, 16, 32)       0         \n",
      " g2D)                                                            \n",
      "                                                                 \n",
      " conv2d_58 (Conv2D)          (None, 16, 16, 64)        18496     \n",
      "                                                                 \n",
      " batch_normalization_51 (Bat  (None, 16, 16, 64)       256       \n",
      " chNormalization)                                                \n",
      "                                                                 \n",
      " max_pooling2d_57 (MaxPoolin  (None, 8, 8, 64)         0         \n",
      " g2D)                                                            \n",
      "                                                                 \n",
      " conv2d_59 (Conv2D)          (None, 8, 8, 128)         172160    \n",
      "                                                                 \n",
      " batch_normalization_52 (Bat  (None, 8, 8, 128)        512       \n",
      " chNormalization)                                                \n",
      "                                                                 \n",
      " max_pooling2d_58 (MaxPoolin  (None, 4, 4, 128)        0         \n",
      " g2D)                                                            \n",
      "                                                                 \n",
      " conv2d_60 (Conv2D)          (None, 4, 4, 128)         344192    \n",
      "                                                                 \n",
      " batch_normalization_53 (Bat  (None, 4, 4, 128)        512       \n",
      " chNormalization)                                                \n",
      "                                                                 \n",
      " max_pooling2d_59 (MaxPoolin  (None, 2, 2, 128)        0         \n",
      " g2D)                                                            \n",
      "                                                                 \n",
      " flatten_17 (Flatten)        (None, 512)               0         \n",
      "                                                                 \n",
      " dense_34 (Dense)            (None, 128)               65664     \n",
      "                                                                 \n",
      " dropout_29 (Dropout)        (None, 128)               0         \n",
      "                                                                 \n",
      " dense_35 (Dense)            (None, 10)                1290      \n",
      "                                                                 \n",
      "=================================================================\n",
      "Total params: 604,106\n",
      "Trainable params: 603,402\n",
      "Non-trainable params: 704\n",
      "_________________________________________________________________\n"
     ]
    }
   ],
   "source": [
    "from keras.layers import Conv2D, MaxPooling2D, Flatten, Dense, Dropout, BatchNormalization\n",
    "from keras.regularizers import l2\n",
    "from keras.models import Sequential\n",
    "\n",
    "# Initialize the sequential model\n",
    "model = Sequential()\n",
    "\n",
    "# Add first convolutional stack\n",
    "model.add(Conv2D(32, (3, 3), activation='relu', padding='same', input_shape=(32, 32, 3)))\n",
    "model.add(BatchNormalization())\n",
    "model.add(MaxPooling2D((2, 2)))\n",
    "\n",
    "# Add second convolutional stack\n",
    "model.add(Conv2D(64, (3, 3), activation='relu', padding='same'))\n",
    "model.add(BatchNormalization())\n",
    "model.add(MaxPooling2D((2, 2)))\n",
    "\n",
    "# Add third convolutional stack\n",
    "model.add(Conv2D(128, (3, 7), activation='relu', padding='same'))\n",
    "model.add(BatchNormalization())\n",
    "model.add(MaxPooling2D((2, 2)))\n",
    "\n",
    "# Add fourth convolutional stack\n",
    "model.add(Conv2D(128, (7, 3), activation='relu', padding='same'))\n",
    "model.add(BatchNormalization())\n",
    "model.add(MaxPooling2D((2, 2)))\n",
    "\n",
    "# Flatten data\n",
    "model.add(Flatten())\n",
    "\n",
    "# Make final predicitons\n",
    "model.add(Dense(128, activation='relu'))\n",
    "model.add(Dropout(.5))\n",
    "model.add(Dense(10, activation='softmax'))\n",
    "\n",
    "model.summary()"
   ]
  },
  {
   "cell_type": "code",
   "execution_count": 110,
   "metadata": {},
   "outputs": [],
   "source": [
    "from keras import optimizers\n",
    "\n",
    "learning_rate = .001 # to be tuned!\n",
    "\n",
    "model.compile(loss='categorical_crossentropy',\n",
    "              optimizer=optimizers.RMSprop(lr=learning_rate),\n",
    "              metrics=['acc'])"
   ]
  },
  {
   "cell_type": "code",
   "execution_count": 111,
   "metadata": {},
   "outputs": [
    {
     "name": "stdout",
     "output_type": "stream",
     "text": [
      "Epoch 1/10\n",
      "625/625 [==============================] - 41s 63ms/step - loss: 1.5942 - acc: 0.4354 - val_loss: 2.1138 - val_acc: 0.3872\n",
      "Epoch 2/10\n",
      "625/625 [==============================] - 39s 63ms/step - loss: 1.1019 - acc: 0.6189 - val_loss: 0.9791 - val_acc: 0.6618\n",
      "Epoch 3/10\n",
      "625/625 [==============================] - 39s 63ms/step - loss: 0.9189 - acc: 0.6887 - val_loss: 1.3828 - val_acc: 0.5751\n",
      "Epoch 4/10\n",
      "625/625 [==============================] - 40s 65ms/step - loss: 0.7868 - acc: 0.7347 - val_loss: 1.2530 - val_acc: 0.6168\n",
      "Epoch 5/10\n",
      "625/625 [==============================] - 39s 63ms/step - loss: 0.6843 - acc: 0.7691 - val_loss: 0.9573 - val_acc: 0.7079\n",
      "Epoch 6/10\n",
      "625/625 [==============================] - 40s 64ms/step - loss: 0.5943 - acc: 0.8023 - val_loss: 1.6850 - val_acc: 0.6463\n",
      "Epoch 7/10\n",
      "625/625 [==============================] - 39s 63ms/step - loss: 0.5133 - acc: 0.8270 - val_loss: 1.0864 - val_acc: 0.6834\n",
      "Epoch 8/10\n",
      "625/625 [==============================] - 40s 64ms/step - loss: 0.4446 - acc: 0.8507 - val_loss: 1.0051 - val_acc: 0.7375\n",
      "Epoch 9/10\n",
      "625/625 [==============================] - 40s 64ms/step - loss: 0.3924 - acc: 0.8689 - val_loss: 1.2244 - val_acc: 0.7204\n",
      "Epoch 10/10\n",
      "625/625 [==============================] - 40s 64ms/step - loss: 0.3472 - acc: 0.8840 - val_loss: 1.0542 - val_acc: 0.7429\n"
     ]
    }
   ],
   "source": [
    "history = model.fit(x_tr, y_tr, batch_size=64, epochs=10, validation_data=(x_val, y_val))"
   ]
  },
  {
   "cell_type": "code",
   "execution_count": 108,
   "metadata": {},
   "outputs": [
    {
     "data": {
      "image/png": "[encoded data removed]",
      "text/plain": [
       "<Figure size 640x480 with 1 Axes>"
      ]
     },
     "metadata": {},
     "output_type": "display_data"
    }
   ],
   "source": [
    "import matplotlib.pyplot as plt\n",
    "%matplotlib inline\n",
    "\n",
    "acc = history.history['acc']\n",
    "val_acc = history.history['val_acc']\n",
    "\n",
    "epochs = range(len(acc))\n",
    "\n",
    "plt.plot(epochs, acc, 'bo', label='Training acc')\n",
    "plt.plot(epochs, val_acc, 'r', label='Validation acc')\n",
    "plt.xlabel('Epochs')\n",
    "plt.ylabel('Accuracy')\n",
    "plt.legend()\n",
    "plt.show()"
   ]
  },
  {
   "cell_type": "markdown",
   "metadata": {},
   "source": [
    "## 3. Train (again) and evaluate the model\n",
    "\n",
    "- To this end, you have found the \"best\" hyper-parameters. \n",
    "- Now, fix the hyper-parameters and train the network on the entire training set (all the 50K training samples)\n",
    "- Evaluate your model on the test set."
   ]
  },
  {
   "cell_type": "markdown",
   "metadata": {},
   "source": [
    "### 3.1. Train the model on the entire training set\n",
    "\n",
    "Why? Previously, you used 40K samples for training; you wasted 10K samples for the sake of hyper-parameter tuning. Now you already know the hyper-parameters, so why not using all the 50K samples for training?"
   ]
  },
  {
   "cell_type": "code",
   "execution_count": 112,
   "metadata": {},
   "outputs": [],
   "source": [
    "# <Compile your model again (using the same hyper-parameters)>\n",
    "# ...\n",
    "\n",
    "model.compile(loss='categorical_crossentropy',\n",
    "              optimizer=optimizers.RMSprop(lr=learning_rate),\n",
    "              metrics=['acc'])"
   ]
  },
  {
   "cell_type": "code",
   "execution_count": 113,
   "metadata": {},
   "outputs": [
    {
     "name": "stdout",
     "output_type": "stream",
     "text": [
      "Epoch 1/10\n",
      "782/782 [==============================] - 44s 56ms/step - loss: 0.4712 - acc: 0.8567\n",
      "Epoch 2/10\n",
      "782/782 [==============================] - 46s 59ms/step - loss: 0.3798 - acc: 0.8782\n",
      "Epoch 3/10\n",
      "782/782 [==============================] - 45s 57ms/step - loss: 0.3265 - acc: 0.8959\n",
      "Epoch 4/10\n",
      "782/782 [==============================] - 45s 58ms/step - loss: 0.2849 - acc: 0.9084\n",
      "Epoch 5/10\n",
      "782/782 [==============================] - 46s 58ms/step - loss: 0.2524 - acc: 0.9193\n",
      "Epoch 6/10\n",
      "782/782 [==============================] - 45s 58ms/step - loss: 0.2244 - acc: 0.9288\n",
      "Epoch 7/10\n",
      "782/782 [==============================] - 46s 59ms/step - loss: 0.2042 - acc: 0.9357\n",
      "Epoch 8/10\n",
      "782/782 [==============================] - 46s 59ms/step - loss: 0.1974 - acc: 0.9387\n",
      "Epoch 9/10\n",
      "782/782 [==============================] - 46s 58ms/step - loss: 0.1760 - acc: 0.9451\n",
      "Epoch 10/10\n",
      "782/782 [==============================] - 46s 59ms/step - loss: 0.1673 - acc: 0.9493\n"
     ]
    }
   ],
   "source": [
    "# <Train your model on the entire training set (50K samples)>\n",
    "# <Use (x_train, y_train_vec) instead of (x_tr, y_tr)>\n",
    "# <Do NOT use the validation_data option (because now you do not have validation data)>\n",
    "# ...\n",
    "\n",
    "history = model.fit(x_train, y_train_vec, batch_size=64, epochs=10)"
   ]
  },
  {
   "cell_type": "markdown",
   "metadata": {},
   "source": [
    "### 3.2. Evaluate the model on the test set\n",
    "\n",
    "Do NOT used the test set until now. Make sure that your model parameters and hyper-parameters are independent of the test set."
   ]
  },
  {
   "cell_type": "code",
   "execution_count": 114,
   "metadata": {},
   "outputs": [
    {
     "name": "stdout",
     "output_type": "stream",
     "text": [
      "313/313 [==============================] - 4s 12ms/step - loss: 1.4582 - acc: 0.7497\n",
      "loss = 1.4582217931747437\n",
      "accuracy = 0.7497000098228455\n"
     ]
    }
   ],
   "source": [
    "loss_and_acc = model.evaluate(x_test, y_test_vec)\n",
    "print('loss = ' + str(loss_and_acc[0]))\n",
    "print('accuracy = ' + str(loss_and_acc[1]))"
   ]
  },
  {
   "cell_type": "markdown",
   "metadata": {},
   "source": [
    "# Final Notes\n",
    "After several different iterations exploring different optimizations, my final model was able to achieve a high training accuracy and sub-par validation and testing accuracy. The final accuracy scores are:\n",
    "- **Training**: 0.9493\n",
    "- **Validation**: 0.7429\n",
    "- **Testing**: 0.7497\n",
    "\n",
    "These scores are indicative that the model is overfitting on the training data and not generalizing enough on the unseen data. This trend persisted through nearly all of my optimization loops. I used the following optimizations to attempt to combat the overfitting problem specifically:\n",
    "- Dropout in various stages of the model stack\n",
    "- Varying dropout rates between .1 and .5\n",
    "- L2 Normalization on Convolutional Layers\n",
    "\n",
    "Other optimization methods I tried in an attempt to raise the general accuracy include:\n",
    "- Additional Convolutional loops in the model stack\n",
    "- Varying convolutional filter sizes\n",
    "- Non-square convolutional filter sizes\n",
    "- Adding Batch Normalization\n",
    "- Adding dropout\n",
    "- Adjusting the learning rate\n",
    "- Adjusting the batch size\n",
    "\n",
    "My final model utilized all of the methods mentioned above (excluding the L2 regularization because I observed no improvements):\n",
    "- **Learning Rate**: 0.001\n",
    "- **Batch Size**: 64\n",
    "\n",
    "**Note**: I saved all graphs from the training loops and these can be provided upon request for validation that changes were made."
   ]
  }
 ],
 "metadata": {
  "kernelspec": {
   "display_name": "Python 3 (ipykernel)",
   "language": "python",
   "name": "python3"
  },
  "language_info": {
   "codemirror_mode": {
    "name": "ipython",
    "version": 3
   },
   "file_extension": ".py",
   "mimetype": "text/x-python",
   "name": "python",
   "nbconvert_exporter": "python",
   "pygments_lexer": "ipython3",
   "version": "3.10.9"
  }
 },
 "nbformat": 4,
 "nbformat_minor": 2
}
